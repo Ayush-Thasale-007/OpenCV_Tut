{
 "cells": [
  {
   "cell_type": "code",
   "execution_count": 4,
   "id": "26c6989e",
   "metadata": {},
   "outputs": [
    {
     "name": "stdout",
     "output_type": "stream",
     "text": [
      "Exiting...\n"
     ]
    }
   ],
   "source": [
    "import cv2\n",
    "\n",
    "# Open a video capture object\n",
    "# This will open the default camera (usually the webcam)\n",
    "# You can change the argument to open a different camera\n",
    "cap = cv2.VideoCapture(0);\n",
    "\n",
    "while True:\n",
    "    # Capture frame-by-frame\n",
    "    ret, frame = cap.read()\n",
    "\n",
    "    # If frame is read correctly, ret will be True\n",
    "    if not ret:\n",
    "        print(\"Failed to grab frame\")\n",
    "        break\n",
    "\n",
    "    # Display the resulting frame\n",
    "    cv2.imshow('Webcam Feed', frame)\n",
    "\n",
    "    # Press 'q' on the keyboard to exit the loop\n",
    "    if cv2.waitKey(1) & 0xFF == ord('q'):\n",
    "        print(\"Exiting...\")\n",
    "        break\n",
    "    \n",
    "# Release the video capture object and close all OpenCV windows\n",
    "cap.release()\n",
    "cv2.destroyAllWindows()"
   ]
  },
  {
   "cell_type": "code",
   "execution_count": 5,
   "id": "288e6193",
   "metadata": {},
   "outputs": [
    {
     "name": "stdout",
     "output_type": "stream",
     "text": [
      "Exiting...\n",
      "Video saved as 'output.avi'\n"
     ]
    }
   ],
   "source": [
    "camera=cv2.VideoCapture(0)\n",
    "\n",
    "frame_width = int(camera.get(cv2.CAP_PROP_FRAME_WIDTH))\n",
    "\n",
    "frame_height = int(camera.get(cv2.CAP_PROP_FRAME_HEIGHT))\n",
    "\n",
    "codec = cv2.VideoWriter_fourcc(*'XVID')\n",
    "output = cv2.VideoWriter('output.avi', codec, 20.0, (frame_width, frame_height))\n",
    "\n",
    "while True:\n",
    "    ret, frame = camera.read()\n",
    "    \n",
    "    if not ret:\n",
    "        print(\"Failed to grab frame\")\n",
    "        break\n",
    "\n",
    "    # Write the frame to the output file\n",
    "    output.write(frame)\n",
    "\n",
    "    # Display the resulting frame\n",
    "    cv2.imshow('Webcam Feed', frame)\n",
    "\n",
    "    # Press 'q' on the keyboard to exit the loop\n",
    "    if cv2.waitKey(1) & 0xFF == ord('q'):\n",
    "        print(\"Exiting...\")\n",
    "        break\n",
    "    \n",
    "    \n",
    "# Release the video capture and writer objects\n",
    "camera.release()\n",
    "output.release()\n",
    "# Close all OpenCV windows\n",
    "cv2.destroyAllWindows()\n",
    "# Save the video file\n",
    "print(\"Video saved as 'output.avi'\")\n",
    "# This script captures video from the webcam and saves it to a file named 'output.avi'.\n",
    "# It also displays the live feed from the webcam in a window.\n",
    "\n",
    "        "
   ]
  },
  {
   "cell_type": "code",
   "execution_count": null,
   "id": "4056cc5c",
   "metadata": {},
   "outputs": [],
   "source": []
  }
 ],
 "metadata": {
  "kernelspec": {
   "display_name": "venv",
   "language": "python",
   "name": "python3"
  },
  "language_info": {
   "codemirror_mode": {
    "name": "ipython",
    "version": 3
   },
   "file_extension": ".py",
   "mimetype": "text/x-python",
   "name": "python",
   "nbconvert_exporter": "python",
   "pygments_lexer": "ipython3",
   "version": "3.9.5"
  }
 },
 "nbformat": 4,
 "nbformat_minor": 5
}
