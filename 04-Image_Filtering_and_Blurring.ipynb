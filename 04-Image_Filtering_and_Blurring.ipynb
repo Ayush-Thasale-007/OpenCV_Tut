{
 "cells": [
  {
   "cell_type": "code",
   "execution_count": 1,
   "id": "0f1aa48c",
   "metadata": {},
   "outputs": [],
   "source": [
    "# Gaussian Blur\n",
    "# Definition : Gaussian blur is a low-pass filter that smooths an image by averaging the pixels around a target pixel, weighted by a Gaussian function.\n",
    "# Gaussian Function : G(x, y) = (1 / (2 * π * σ^2)) * exp(-(x^2 + y^2) / (2 * σ^2))\n",
    "import cv2\n",
    "\n",
    "image = cv2.imread(\"images/old_town.jpg\")\n",
    "\n",
    "resized_image = cv2.resize(image, (800, 800))\n",
    "\n",
    "image = resized_image\n",
    "blurred_image = cv2.GaussianBlur(image, (7, 7), 0)\n",
    "\n",
    "cv2.imshow(\"Original Image\", image)\n",
    "\n",
    "cv2.imshow(\"Blurred Image\", blurred_image)\n",
    "\n",
    "cv2.waitKey(0)\n",
    "cv2.destroyAllWindows()\n",
    "\n"
   ]
  },
  {
   "cell_type": "code",
   "execution_count": 4,
   "id": "72239b03",
   "metadata": {},
   "outputs": [],
   "source": [
    "# Median Blur\n",
    "# Definition : Median blur replaces each pixel's value with the median value of the pixels in a surrounding neighborhood.\n",
    "# Median Function : M = median({I(x, y) | (x, y)\n",
    "\n",
    "blurred_image = cv2.medianBlur(image, 15)\n",
    "\n",
    "cv2.imshow(\"Original Image\", image) \n",
    "cv2.imshow(\"Median Blurred Image\", blurred_image)\n",
    "\n",
    "\n",
    "cv2.waitKey(0)\n",
    "cv2.destroyAllWindows()\n"
   ]
  },
  {
   "cell_type": "code",
   "execution_count": 5,
   "id": "cae0f20d",
   "metadata": {},
   "outputs": [],
   "source": [
    "# Sharpening\n",
    "# Definition : Sharpening enhances the edges and fine details in an image by emphasizing high-frequency\n",
    "import numpy as np\n",
    "kernel = np.array([[0, -1, 0],\n",
    "                   [-1, 5, -1],\n",
    "                   [0, -1, 0]])\n",
    "sharpened_image = cv2.filter2D(image, -1, kernel)\n",
    "cv2.imshow(\"Original Image\", image)\n",
    "cv2.imshow(\"Sharpened Image\", sharpened_image)\n",
    "cv2.waitKey(0)\n",
    "cv2.destroyAllWindows()"
   ]
  },
  {
   "cell_type": "code",
   "execution_count": null,
   "id": "2d2c4dc1",
   "metadata": {},
   "outputs": [],
   "source": []
  }
 ],
 "metadata": {
  "kernelspec": {
   "display_name": "venv",
   "language": "python",
   "name": "python3"
  },
  "language_info": {
   "codemirror_mode": {
    "name": "ipython",
    "version": 3
   },
   "file_extension": ".py",
   "mimetype": "text/x-python",
   "name": "python",
   "nbconvert_exporter": "python",
   "pygments_lexer": "ipython3",
   "version": "3.9.5"
  }
 },
 "nbformat": 4,
 "nbformat_minor": 5
}
