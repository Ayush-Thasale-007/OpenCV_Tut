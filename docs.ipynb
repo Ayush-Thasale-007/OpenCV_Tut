{
 "cells": [
  {
   "cell_type": "markdown",
   "id": "1df09a6d",
   "metadata": {},
   "source": [
    "Image -> 2D Grid\n",
    "Pixels -> Matrix of numbers\n",
    "            Smallest Unit of image\n",
    "If picture is colored then 1 pixel holds 3 colors\n",
    "\n",
    "Color Channels\n",
    "\n",
    "Image Formats\n"
   ]
  }
 ],
 "metadata": {
  "language_info": {
   "name": "python"
  }
 },
 "nbformat": 4,
 "nbformat_minor": 5
}
