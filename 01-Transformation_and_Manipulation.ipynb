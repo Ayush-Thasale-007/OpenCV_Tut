{
 "cells": [
  {
   "cell_type": "code",
   "execution_count": 3,
   "id": "b787d542",
   "metadata": {},
   "outputs": [],
   "source": [
    "# To Read Image Files\n",
    "import cv2\n",
    "image = cv2.imread('images/old_town.jpg');\n",
    "# To Resize an Image\n",
    "width = 600\n",
    "height = 400\n",
    "resized = cv2.resize(image, (width, height))\n",
    "\n",
    "# To Display the resized image\n",
    "cv2.imshow('Resized Old Town', resized)\n",
    "cv2.waitKey(0)\n",
    "cv2.destroyAllWindows()\n"
   ]
  },
  {
   "cell_type": "code",
   "execution_count": 4,
   "id": "4f731381",
   "metadata": {},
   "outputs": [],
   "source": [
    "# The Syntax for resizing an image is:\n",
    "# cv2.resize(image, (width, height), interpolation=cv2.INTER_LINEAR)\n",
    "# Interpolation means how the pixel values are calculated when resizing.\n",
    "\n",
    "resized = cv2.resize(image, (width, height), interpolation=cv2.INTER_LINEAR)"
   ]
  },
  {
   "cell_type": "code",
   "execution_count": 5,
   "id": "39a73e49",
   "metadata": {},
   "outputs": [],
   "source": [
    "# Cropping Image using slicing\n",
    "# Syntax: cropped_image = image[startY:endY, startX:endX]\n",
    "\n",
    "cropped_image = image[50:300, 100:400]\n",
    "# To Display the cropped image\n",
    "cv2.imshow('Cropped Old Town', cropped_image)\n",
    "cv2.waitKey(0)\n",
    "cv2.destroyAllWindows()"
   ]
  },
  {
   "cell_type": "code",
   "execution_count": 9,
   "id": "48669ac4",
   "metadata": {},
   "outputs": [],
   "source": [
    "# Image Rotation and Flipping\n",
    "# Rotation means rotating an Image around its center\n",
    "# Syntax: M = cv2.getRotationMatrix2D(center, angle, scale)\n",
    "# The Entire definition of above syntax is center is the point from which the image is rotated,\n",
    "# angle is the angle of rotation in degrees, and scale is the scaling factor.\n",
    "# rotated_image = cv2.warpAffine(image, M, (width, height))\n",
    "center = (image.shape[1] // 2, image.shape[0] // 2)  # Center of the image\n",
    "\n",
    "# WarpAffine means applying an affine transformation to the image\n",
    "# affine means a linear mapping from one coordinate system to another\n",
    "M = cv2.getRotationMatrix2D(center, 45, 0.5) \n",
    "# The Above code will rotate the image by 45 degrees around its center and scale it by 0.8\n",
    "rotated_image = cv2.warpAffine(image, M, (image.shape[1], image.shape[0]))\n",
    "# To Display the rotated image\n",
    "cv2.imshow('Rotated Old Town', rotated_image)\n",
    "cv2.waitKey(0)\n",
    "cv2.destroyAllWindows()\n",
    "\n"
   ]
  },
  {
   "cell_type": "code",
   "execution_count": 13,
   "id": "8677f922",
   "metadata": {},
   "outputs": [],
   "source": [
    "# To Resize an Image\n",
    "width = 600\n",
    "height = 400\n",
    "resized = cv2.resize(image, (width, height))\n",
    "\n",
    "center = (resized.shape[1] // 2, resized.shape[0] // 2)  # Center of the image\n",
    "\n",
    "M = cv2.getRotationMatrix2D(center, 45, 0.5)\n",
    "rotated_image = cv2.warpAffine(resized, M, (resized.shape[1], resized.shape[0]))\n",
    "# To Display the rotated image\n",
    "cv2.imshow('Rotated Old Town', rotated_image)\n",
    "cv2.waitKey(0)\n",
    "cv2.destroyAllWindows()"
   ]
  },
  {
   "cell_type": "code",
   "execution_count": 19,
   "id": "754bcbff",
   "metadata": {},
   "outputs": [],
   "source": [
    "# Image Flipping\n",
    "# Flipping means flipping an image horizontally or vertically\n",
    "# Syntax: flipped_image = cv2.flip(image, flipCode)\n",
    "# flipCode is an integer that specifies the type of flipping:\n",
    "# 0 - Flip vertically\n",
    "# 1 - Flip horizontally\n",
    "\n",
    "flipped_image = cv2.flip(resized, 0)  # Flip horizontally\n",
    "# To Display the flipped image  \n",
    "cv2.imshow('Flipped Old Town', flipped_image)\n",
    "cv2.waitKey(0)\n",
    "cv2.destroyAllWindows()"
   ]
  },
  {
   "cell_type": "code",
   "execution_count": null,
   "id": "f18cc8fe",
   "metadata": {},
   "outputs": [],
   "source": []
  }
 ],
 "metadata": {
  "kernelspec": {
   "display_name": "venv",
   "language": "python",
   "name": "python3"
  },
  "language_info": {
   "codemirror_mode": {
    "name": "ipython",
    "version": 3
   },
   "file_extension": ".py",
   "mimetype": "text/x-python",
   "name": "python",
   "nbconvert_exporter": "python",
   "pygments_lexer": "ipython3",
   "version": "3.9.5"
  }
 },
 "nbformat": 4,
 "nbformat_minor": 5
}
