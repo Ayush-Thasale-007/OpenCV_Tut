{
 "cells": [
  {
   "cell_type": "code",
   "execution_count": 8,
   "id": "329cdd00",
   "metadata": {},
   "outputs": [],
   "source": [
    "# Canny Edge Detection \n",
    "\n",
    "# What is Canny Edge Detection?\n",
    "# Canny Edge Detection is an edge detection operator that uses a multi-stage algorithm to detect a wide range of edges in images.\n",
    "\n",
    "# Working of Canny Edge Detection:\n",
    "# 1. Noise Reduction: The image is smoothed using a Gaussian filter to reduce noise\n",
    "# 2. Gradient Calculation: The gradient magnitude and direction are calculated using Sobel operators.\n",
    "# Sobel operators Formulas:\n",
    "# Gx = [[-1, 0, 1], [-2, 0, 2], [-1, 0, 1]] (Horizontal)\n",
    "# Gy = [[1, 2, 1], [0, 0, 0], [-1, -2, -1]] (Vertical)\n",
    "# 3. Non-Maximum Suppression: Thin out the edges by suppressing non-maximum pixels in the gradient direction\n",
    "# 4. Double Thresholding: Apply two thresholds to classify pixels as strong, weak, or non-edges.\n",
    "# 5. Edge Tracking by Hysteresis: Strong edges are retained, and weak edges are kept if they are connected to strong edges.\n",
    "\n",
    "import cv2\n",
    "\n",
    "image = cv2.imread('images/old_town.jpg', cv2.IMREAD_GRAYSCALE)  \n",
    "resized_image = cv2.resize(image, (800, 800))  \n",
    "\n",
    "image = resized_image\n",
    "\n",
    "edges = cv2.Canny(image, 50, 250)  # Apply Canny Edge Detection with thresholds\n",
    "\n",
    "\n",
    "# original_image = cv2.cvtColor(image, cv2.COLOR_GRAY2BGR)  # Convert grayscale to BGR for display\n",
    "cv2.imshow('Original Image', image)  # Display the original image\n",
    "cv2.imshow('Canny Edge Detection', edges)  # Display the edges\n",
    "\n",
    "cv2.waitKey(0)  # Wait for a key press\n",
    "cv2.destroyAllWindows()  # Close all OpenCV windows"
   ]
  },
  {
   "cell_type": "code",
   "execution_count": null,
   "id": "0a1d562c",
   "metadata": {},
   "outputs": [],
   "source": [
    "# Bitwise Operations:\n",
    "# Bitwise operations are used to manipulate images at the pixel level.\n",
    "# They are often used in image processing tasks such as masking, combining images, and extracting regions of interest.\n",
    "\n"
   ]
  }
 ],
 "metadata": {
  "kernelspec": {
   "display_name": "venv",
   "language": "python",
   "name": "python3"
  },
  "language_info": {
   "codemirror_mode": {
    "name": "ipython",
    "version": 3
   },
   "file_extension": ".py",
   "mimetype": "text/x-python",
   "name": "python",
   "nbconvert_exporter": "python",
   "pygments_lexer": "ipython3",
   "version": "3.9.5"
  }
 },
 "nbformat": 4,
 "nbformat_minor": 5
}
