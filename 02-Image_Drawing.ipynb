{
 "cells": [
  {
   "cell_type": "code",
   "execution_count": 2,
   "id": "a8f8d9b0",
   "metadata": {},
   "outputs": [],
   "source": [
    "# Drawing a Line using cv2\n",
    "import cv2\n",
    "# Syntax: cv2.line(image, start_point, end_point, color, thickness)\n",
    "import numpy as np\n",
    "\n",
    "image = cv2.imread(\"images/old_town.jpg\")\n",
    "resized = cv2.resize(image, (800, 800))\n",
    "image = resized.copy()\n",
    "\n",
    "start_point = (100, 100)\n",
    "end_point = (700, 700)\n",
    "\n",
    "color = (0, 255, 0)  # Green color in BGR\n",
    "thickness = 5\n",
    "cv2.line(image, start_point, end_point, color, thickness)\n",
    "cv2.imshow(\"Line\", image)\n",
    "cv2.waitKey(0)\n",
    "cv2.destroyAllWindows()"
   ]
  },
  {
   "cell_type": "code",
   "execution_count": 2,
   "id": "423b8888",
   "metadata": {},
   "outputs": [],
   "source": [
    "# Drawing a Line using cv2\n",
    "import cv2\n",
    "# Syntax: cv2.line(image, start_point, end_point, color, thickness)\n",
    "import numpy as np\n",
    "\n",
    "image = cv2.imread(\"images/old_town.jpg\")\n",
    "resized = cv2.resize(image, (800, 800))\n",
    "image = resized.copy()\n",
    "\n",
    "start_point = (100, 100)\n",
    "end_point = (700, 700)\n",
    "\n",
    "color = (0, 255, 0)  # Green color in BGR\n",
    "thickness = 5\n",
    "cv2.rectangle(image, start_point, end_point, color, thickness)\n",
    "cv2.imshow(\"Line\", image)\n",
    "cv2.waitKey(0)\n",
    "cv2.destroyAllWindows()"
   ]
  },
  {
   "cell_type": "code",
   "execution_count": 7,
   "id": "93a43b30",
   "metadata": {},
   "outputs": [],
   "source": [
    "# Adding Text\n",
    "# Syntax: cv2.putText(image, text, org, fontFace, fontScale, color, thickness)\n",
    "image = cv2.imread(\"images/old_town.jpg\")\n",
    "resized = cv2.resize(image, (800, 800))\n",
    "image = resized.copy()\n",
    "\n",
    "text = \"Hello, OpenCV!\"\n",
    "org = (80, 80)  # Bottom-left corner of the text string in the image\n",
    "fontFace = cv2.FONT_HERSHEY_SIMPLEX\n",
    "fontScale = 1\n",
    "color = (255, 0, 0)  # Blue color in BGR\n",
    "thickness = 2\n",
    "cv2.putText(image, text, org, fontFace, fontScale, color, thickness)\n",
    "cv2.imshow(\"Text\", image)\n",
    "cv2.waitKey(0)\n",
    "cv2.destroyAllWindows()"
   ]
  },
  {
   "cell_type": "code",
   "execution_count": null,
   "id": "a6e769a7",
   "metadata": {},
   "outputs": [],
   "source": []
  }
 ],
 "metadata": {
  "kernelspec": {
   "display_name": "venv",
   "language": "python",
   "name": "python3"
  },
  "language_info": {
   "codemirror_mode": {
    "name": "ipython",
    "version": 3
   },
   "file_extension": ".py",
   "mimetype": "text/x-python",
   "name": "python",
   "nbconvert_exporter": "python",
   "pygments_lexer": "ipython3",
   "version": "3.9.5"
  }
 },
 "nbformat": 4,
 "nbformat_minor": 5
}
