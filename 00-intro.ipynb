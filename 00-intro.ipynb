{
 "cells": [
  {
   "cell_type": "code",
   "execution_count": 1,
   "id": "341cde13",
   "metadata": {},
   "outputs": [],
   "source": [
    "# To Read Image Files\n",
    "import cv2\n",
    "# To Load an read image file\n",
    "image = cv2.imread('images/old_town.jpg');"
   ]
  },
  {
   "cell_type": "code",
   "execution_count": 2,
   "id": "ab0db559",
   "metadata": {},
   "outputs": [],
   "source": [
    "# To Display the image in a window\n",
    "cv2.imshow('Old Town', image);\n",
    "# To Wait for a key press\n",
    "# The Argument 0 means it will wait indefinitely until a key is pressed\n",
    "# If you want to wait for a specific time, you can pass the time in milliseconds\n",
    "cv2.waitKey(0);\n",
    "# To Destroy all windows\n",
    "cv2.destroyAllWindows();"
   ]
  },
  {
   "cell_type": "code",
   "execution_count": 3,
   "id": "c699a53e",
   "metadata": {},
   "outputs": [],
   "source": [
    "# to save the image to a new file\n",
    "cv2.imwrite('images/old_town_copy.jpg', image);"
   ]
  },
  {
   "cell_type": "code",
   "execution_count": null,
   "id": "8e4c11e4",
   "metadata": {},
   "outputs": [
    {
     "data": {
      "text/plain": [
       "(2880, 1920, 3)"
      ]
     },
     "execution_count": 5,
     "metadata": {},
     "output_type": "execute_result"
    }
   ],
   "source": [
    "# This will print the shape of the image ie (height, width, channels)\n",
    "image.shape\n",
    "# if the image is grayscale, it will print (height, width)"
   ]
  },
  {
   "cell_type": "code",
   "execution_count": 6,
   "id": "7ccbfb4d",
   "metadata": {},
   "outputs": [],
   "source": [
    "# GrayScale conversion\n",
    "gray_image = cv2.cvtColor(image, cv2.COLOR_BGR2GRAY)\n",
    "# To Display the grayscale image    \n",
    "cv2.imshow('Grayscale Old Town', gray_image);\n",
    "# To Wait for a key press   \n",
    "cv2.waitKey(0);\n",
    "# To Destroy all windows    \n",
    "cv2.destroyAllWindows();    "
   ]
  },
  {
   "cell_type": "code",
   "execution_count": 7,
   "id": "766e0d3d",
   "metadata": {},
   "outputs": [],
   "source": [
    "# Assignment:\n",
    "# 1. Load an image of your choice\n",
    "# 2. Convert it to grayscale\n",
    "# 3. Show or Save Image based on user input"
   ]
  },
  {
   "cell_type": "code",
   "execution_count": null,
   "id": "5a7f9d20",
   "metadata": {},
   "outputs": [],
   "source": []
  }
 ],
 "metadata": {
  "kernelspec": {
   "display_name": "venv",
   "language": "python",
   "name": "python3"
  },
  "language_info": {
   "codemirror_mode": {
    "name": "ipython",
    "version": 3
   },
   "file_extension": ".py",
   "mimetype": "text/x-python",
   "name": "python",
   "nbconvert_exporter": "python",
   "pygments_lexer": "ipython3",
   "version": "3.9.5"
  }
 },
 "nbformat": 4,
 "nbformat_minor": 5
}
